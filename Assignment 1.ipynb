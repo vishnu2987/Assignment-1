{
 "cells": [
  {
   "cell_type": "code",
   "execution_count": 1,
   "id": "6b471dc9",
   "metadata": {
    "_cell_guid": "b1076dfc-b9ad-4769-8c92-a6c4dae69d19",
    "_uuid": "8f2839f25d086af736a60e9eeb907d3b93b6e0e5",
    "execution": {
     "iopub.execute_input": "2023-04-28T06:11:00.299739Z",
     "iopub.status.busy": "2023-04-28T06:11:00.299283Z",
     "iopub.status.idle": "2023-04-28T06:11:00.317780Z",
     "shell.execute_reply": "2023-04-28T06:11:00.316815Z"
    },
    "papermill": {
     "duration": 0.027294,
     "end_time": "2023-04-28T06:11:00.320423",
     "exception": false,
     "start_time": "2023-04-28T06:11:00.293129",
     "status": "completed"
    },
    "tags": []
   },
   "outputs": [
    {
     "name": "stdout",
     "output_type": "stream",
     "text": [
      "/kaggle/input/house-price-dataset-of-india/House Price India.csv\n"
     ]
    }
   ],
   "source": [
    "# This Python 3 environment comes with many helpful analytics libraries installed\n",
    "# It is defined by the kaggle/python Docker image: https://github.com/kaggle/docker-python\n",
    "# For example, here's several helpful packages to load\n",
    "\n",
    "import numpy as np # linear algebra\n",
    "import pandas as pd # data processing, CSV file I/O (e.g. pd.read_csv)\n",
    "\n",
    "# Input data files are available in the read-only \"../input/\" directory\n",
    "# For example, running this (by clicking run or pressing Shift+Enter) will list all files under the input directory\n",
    "\n",
    "import os\n",
    "for dirname, _, filenames in os.walk('/kaggle/input'):\n",
    "    for filename in filenames:\n",
    "        print(os.path.join(dirname, filename))\n",
    "\n",
    "# You can write up to 20GB to the current directory (/kaggle/working/) that gets preserved as output when you create a version using \"Save & Run All\" \n",
    "# You can also write temporary files to /kaggle/temp/, but they won't be saved outside of the current session"
   ]
  },
  {
   "cell_type": "code",
   "execution_count": 2,
   "id": "68b37609",
   "metadata": {
    "execution": {
     "iopub.execute_input": "2023-04-28T06:11:00.330806Z",
     "iopub.status.busy": "2023-04-28T06:11:00.330139Z",
     "iopub.status.idle": "2023-04-28T06:11:01.465463Z",
     "shell.execute_reply": "2023-04-28T06:11:01.464287Z"
    },
    "papermill": {
     "duration": 1.143574,
     "end_time": "2023-04-28T06:11:01.467975",
     "exception": false,
     "start_time": "2023-04-28T06:11:00.324401",
     "status": "completed"
    },
    "tags": []
   },
   "outputs": [],
   "source": [
    "import pandas as pd\n",
    "import numpy as np\n",
    "import matplotlib.pyplot as plt\n",
    "import seaborn as sns"
   ]
  },
  {
   "cell_type": "code",
   "execution_count": 3,
   "id": "2dc13ac6",
   "metadata": {
    "execution": {
     "iopub.execute_input": "2023-04-28T06:11:01.477085Z",
     "iopub.status.busy": "2023-04-28T06:11:01.476247Z",
     "iopub.status.idle": "2023-04-28T06:11:01.569314Z",
     "shell.execute_reply": "2023-04-28T06:11:01.568075Z"
    },
    "papermill": {
     "duration": 0.099978,
     "end_time": "2023-04-28T06:11:01.571568",
     "exception": false,
     "start_time": "2023-04-28T06:11:01.471590",
     "status": "completed"
    },
    "tags": []
   },
   "outputs": [
    {
     "data": {
      "text/html": [
       "<div>\n",
       "<style scoped>\n",
       "    .dataframe tbody tr th:only-of-type {\n",
       "        vertical-align: middle;\n",
       "    }\n",
       "\n",
       "    .dataframe tbody tr th {\n",
       "        vertical-align: top;\n",
       "    }\n",
       "\n",
       "    .dataframe thead th {\n",
       "        text-align: right;\n",
       "    }\n",
       "</style>\n",
       "<table border=\"1\" class=\"dataframe\">\n",
       "  <thead>\n",
       "    <tr style=\"text-align: right;\">\n",
       "      <th></th>\n",
       "      <th>id</th>\n",
       "      <th>Date</th>\n",
       "      <th>number of bedrooms</th>\n",
       "      <th>number of bathrooms</th>\n",
       "      <th>living area</th>\n",
       "      <th>lot area</th>\n",
       "      <th>number of floors</th>\n",
       "      <th>waterfront present</th>\n",
       "      <th>number of views</th>\n",
       "      <th>condition of the house</th>\n",
       "      <th>...</th>\n",
       "      <th>Built Year</th>\n",
       "      <th>Renovation Year</th>\n",
       "      <th>Postal Code</th>\n",
       "      <th>Lattitude</th>\n",
       "      <th>Longitude</th>\n",
       "      <th>living_area_renov</th>\n",
       "      <th>lot_area_renov</th>\n",
       "      <th>Number of schools nearby</th>\n",
       "      <th>Distance from the airport</th>\n",
       "      <th>Price</th>\n",
       "    </tr>\n",
       "  </thead>\n",
       "  <tbody>\n",
       "    <tr>\n",
       "      <th>0</th>\n",
       "      <td>6762810145</td>\n",
       "      <td>42491</td>\n",
       "      <td>5</td>\n",
       "      <td>2.50</td>\n",
       "      <td>3650</td>\n",
       "      <td>9050</td>\n",
       "      <td>2.0</td>\n",
       "      <td>0</td>\n",
       "      <td>4</td>\n",
       "      <td>5</td>\n",
       "      <td>...</td>\n",
       "      <td>1921</td>\n",
       "      <td>0</td>\n",
       "      <td>122003</td>\n",
       "      <td>52.8645</td>\n",
       "      <td>-114.557</td>\n",
       "      <td>2880</td>\n",
       "      <td>5400</td>\n",
       "      <td>2</td>\n",
       "      <td>58</td>\n",
       "      <td>2380000</td>\n",
       "    </tr>\n",
       "    <tr>\n",
       "      <th>1</th>\n",
       "      <td>6762810635</td>\n",
       "      <td>42491</td>\n",
       "      <td>4</td>\n",
       "      <td>2.50</td>\n",
       "      <td>2920</td>\n",
       "      <td>4000</td>\n",
       "      <td>1.5</td>\n",
       "      <td>0</td>\n",
       "      <td>0</td>\n",
       "      <td>5</td>\n",
       "      <td>...</td>\n",
       "      <td>1909</td>\n",
       "      <td>0</td>\n",
       "      <td>122004</td>\n",
       "      <td>52.8878</td>\n",
       "      <td>-114.470</td>\n",
       "      <td>2470</td>\n",
       "      <td>4000</td>\n",
       "      <td>2</td>\n",
       "      <td>51</td>\n",
       "      <td>1400000</td>\n",
       "    </tr>\n",
       "    <tr>\n",
       "      <th>2</th>\n",
       "      <td>6762810998</td>\n",
       "      <td>42491</td>\n",
       "      <td>5</td>\n",
       "      <td>2.75</td>\n",
       "      <td>2910</td>\n",
       "      <td>9480</td>\n",
       "      <td>1.5</td>\n",
       "      <td>0</td>\n",
       "      <td>0</td>\n",
       "      <td>3</td>\n",
       "      <td>...</td>\n",
       "      <td>1939</td>\n",
       "      <td>0</td>\n",
       "      <td>122004</td>\n",
       "      <td>52.8852</td>\n",
       "      <td>-114.468</td>\n",
       "      <td>2940</td>\n",
       "      <td>6600</td>\n",
       "      <td>1</td>\n",
       "      <td>53</td>\n",
       "      <td>1200000</td>\n",
       "    </tr>\n",
       "    <tr>\n",
       "      <th>3</th>\n",
       "      <td>6762812605</td>\n",
       "      <td>42491</td>\n",
       "      <td>4</td>\n",
       "      <td>2.50</td>\n",
       "      <td>3310</td>\n",
       "      <td>42998</td>\n",
       "      <td>2.0</td>\n",
       "      <td>0</td>\n",
       "      <td>0</td>\n",
       "      <td>3</td>\n",
       "      <td>...</td>\n",
       "      <td>2001</td>\n",
       "      <td>0</td>\n",
       "      <td>122005</td>\n",
       "      <td>52.9532</td>\n",
       "      <td>-114.321</td>\n",
       "      <td>3350</td>\n",
       "      <td>42847</td>\n",
       "      <td>3</td>\n",
       "      <td>76</td>\n",
       "      <td>838000</td>\n",
       "    </tr>\n",
       "    <tr>\n",
       "      <th>4</th>\n",
       "      <td>6762812919</td>\n",
       "      <td>42491</td>\n",
       "      <td>3</td>\n",
       "      <td>2.00</td>\n",
       "      <td>2710</td>\n",
       "      <td>4500</td>\n",
       "      <td>1.5</td>\n",
       "      <td>0</td>\n",
       "      <td>0</td>\n",
       "      <td>4</td>\n",
       "      <td>...</td>\n",
       "      <td>1929</td>\n",
       "      <td>0</td>\n",
       "      <td>122006</td>\n",
       "      <td>52.9047</td>\n",
       "      <td>-114.485</td>\n",
       "      <td>2060</td>\n",
       "      <td>4500</td>\n",
       "      <td>1</td>\n",
       "      <td>51</td>\n",
       "      <td>805000</td>\n",
       "    </tr>\n",
       "  </tbody>\n",
       "</table>\n",
       "<p>5 rows × 23 columns</p>\n",
       "</div>"
      ],
      "text/plain": [
       "           id   Date  number of bedrooms  number of bathrooms  living area  \\\n",
       "0  6762810145  42491                   5                 2.50         3650   \n",
       "1  6762810635  42491                   4                 2.50         2920   \n",
       "2  6762810998  42491                   5                 2.75         2910   \n",
       "3  6762812605  42491                   4                 2.50         3310   \n",
       "4  6762812919  42491                   3                 2.00         2710   \n",
       "\n",
       "   lot area  number of floors  waterfront present  number of views  \\\n",
       "0      9050               2.0                   0                4   \n",
       "1      4000               1.5                   0                0   \n",
       "2      9480               1.5                   0                0   \n",
       "3     42998               2.0                   0                0   \n",
       "4      4500               1.5                   0                0   \n",
       "\n",
       "   condition of the house  ...  Built Year  Renovation Year  Postal Code  \\\n",
       "0                       5  ...        1921                0       122003   \n",
       "1                       5  ...        1909                0       122004   \n",
       "2                       3  ...        1939                0       122004   \n",
       "3                       3  ...        2001                0       122005   \n",
       "4                       4  ...        1929                0       122006   \n",
       "\n",
       "   Lattitude  Longitude  living_area_renov  lot_area_renov  \\\n",
       "0    52.8645   -114.557               2880            5400   \n",
       "1    52.8878   -114.470               2470            4000   \n",
       "2    52.8852   -114.468               2940            6600   \n",
       "3    52.9532   -114.321               3350           42847   \n",
       "4    52.9047   -114.485               2060            4500   \n",
       "\n",
       "   Number of schools nearby  Distance from the airport    Price  \n",
       "0                         2                         58  2380000  \n",
       "1                         2                         51  1400000  \n",
       "2                         1                         53  1200000  \n",
       "3                         3                         76   838000  \n",
       "4                         1                         51   805000  \n",
       "\n",
       "[5 rows x 23 columns]"
      ]
     },
     "execution_count": 3,
     "metadata": {},
     "output_type": "execute_result"
    }
   ],
   "source": [
    "data= pd.read_csv('/kaggle/input/house-price-dataset-of-india/House Price India.csv')\n",
    "data.head(5)"
   ]
  },
  {
   "cell_type": "code",
   "execution_count": 4,
   "id": "0d64041f",
   "metadata": {
    "execution": {
     "iopub.execute_input": "2023-04-28T06:11:01.581379Z",
     "iopub.status.busy": "2023-04-28T06:11:01.580519Z",
     "iopub.status.idle": "2023-04-28T06:11:01.588904Z",
     "shell.execute_reply": "2023-04-28T06:11:01.587979Z"
    },
    "papermill": {
     "duration": 0.015488,
     "end_time": "2023-04-28T06:11:01.591047",
     "exception": false,
     "start_time": "2023-04-28T06:11:01.575559",
     "status": "completed"
    },
    "tags": []
   },
   "outputs": [
    {
     "data": {
      "text/plain": [
       "Index(['id', 'Date', 'number of bedrooms', 'number of bathrooms',\n",
       "       'living area', 'lot area', 'number of floors', 'waterfront present',\n",
       "       'number of views', 'condition of the house', 'grade of the house',\n",
       "       'Area of the house(excluding basement)', 'Area of the basement',\n",
       "       'Built Year', 'Renovation Year', 'Postal Code', 'Lattitude',\n",
       "       'Longitude', 'living_area_renov', 'lot_area_renov',\n",
       "       'Number of schools nearby', 'Distance from the airport', 'Price'],\n",
       "      dtype='object')"
      ]
     },
     "execution_count": 4,
     "metadata": {},
     "output_type": "execute_result"
    }
   ],
   "source": [
    "data.columns"
   ]
  },
  {
   "cell_type": "code",
   "execution_count": 5,
   "id": "09de6bbc",
   "metadata": {
    "execution": {
     "iopub.execute_input": "2023-04-28T06:11:01.600073Z",
     "iopub.status.busy": "2023-04-28T06:11:01.599710Z",
     "iopub.status.idle": "2023-04-28T06:11:01.605895Z",
     "shell.execute_reply": "2023-04-28T06:11:01.604853Z"
    },
    "papermill": {
     "duration": 0.013085,
     "end_time": "2023-04-28T06:11:01.607925",
     "exception": false,
     "start_time": "2023-04-28T06:11:01.594840",
     "status": "completed"
    },
    "tags": []
   },
   "outputs": [
    {
     "data": {
      "text/plain": [
       "(14620, 23)"
      ]
     },
     "execution_count": 5,
     "metadata": {},
     "output_type": "execute_result"
    }
   ],
   "source": [
    "data.shape"
   ]
  },
  {
   "cell_type": "code",
   "execution_count": 6,
   "id": "62d0f1d9",
   "metadata": {
    "execution": {
     "iopub.execute_input": "2023-04-28T06:11:01.617542Z",
     "iopub.status.busy": "2023-04-28T06:11:01.616950Z",
     "iopub.status.idle": "2023-04-28T06:11:01.698070Z",
     "shell.execute_reply": "2023-04-28T06:11:01.697051Z"
    },
    "papermill": {
     "duration": 0.088731,
     "end_time": "2023-04-28T06:11:01.700713",
     "exception": false,
     "start_time": "2023-04-28T06:11:01.611982",
     "status": "completed"
    },
    "tags": []
   },
   "outputs": [
    {
     "data": {
      "text/html": [
       "<div>\n",
       "<style scoped>\n",
       "    .dataframe tbody tr th:only-of-type {\n",
       "        vertical-align: middle;\n",
       "    }\n",
       "\n",
       "    .dataframe tbody tr th {\n",
       "        vertical-align: top;\n",
       "    }\n",
       "\n",
       "    .dataframe thead th {\n",
       "        text-align: right;\n",
       "    }\n",
       "</style>\n",
       "<table border=\"1\" class=\"dataframe\">\n",
       "  <thead>\n",
       "    <tr style=\"text-align: right;\">\n",
       "      <th></th>\n",
       "      <th>id</th>\n",
       "      <th>Date</th>\n",
       "      <th>number of bedrooms</th>\n",
       "      <th>number of bathrooms</th>\n",
       "      <th>living area</th>\n",
       "      <th>lot area</th>\n",
       "      <th>number of floors</th>\n",
       "      <th>waterfront present</th>\n",
       "      <th>number of views</th>\n",
       "      <th>condition of the house</th>\n",
       "      <th>...</th>\n",
       "      <th>Built Year</th>\n",
       "      <th>Renovation Year</th>\n",
       "      <th>Postal Code</th>\n",
       "      <th>Lattitude</th>\n",
       "      <th>Longitude</th>\n",
       "      <th>living_area_renov</th>\n",
       "      <th>lot_area_renov</th>\n",
       "      <th>Number of schools nearby</th>\n",
       "      <th>Distance from the airport</th>\n",
       "      <th>Price</th>\n",
       "    </tr>\n",
       "  </thead>\n",
       "  <tbody>\n",
       "    <tr>\n",
       "      <th>count</th>\n",
       "      <td>1.462000e+04</td>\n",
       "      <td>14620.000000</td>\n",
       "      <td>14620.000000</td>\n",
       "      <td>14620.000000</td>\n",
       "      <td>14620.000000</td>\n",
       "      <td>1.462000e+04</td>\n",
       "      <td>14620.000000</td>\n",
       "      <td>14620.000000</td>\n",
       "      <td>14620.000000</td>\n",
       "      <td>14620.000000</td>\n",
       "      <td>...</td>\n",
       "      <td>14620.000000</td>\n",
       "      <td>14620.000000</td>\n",
       "      <td>14620.000000</td>\n",
       "      <td>14620.000000</td>\n",
       "      <td>14620.000000</td>\n",
       "      <td>14620.000000</td>\n",
       "      <td>14620.000000</td>\n",
       "      <td>14620.000000</td>\n",
       "      <td>14620.000000</td>\n",
       "      <td>1.462000e+04</td>\n",
       "    </tr>\n",
       "    <tr>\n",
       "      <th>mean</th>\n",
       "      <td>6.762821e+09</td>\n",
       "      <td>42604.538646</td>\n",
       "      <td>3.379343</td>\n",
       "      <td>2.129583</td>\n",
       "      <td>2098.262996</td>\n",
       "      <td>1.509328e+04</td>\n",
       "      <td>1.502360</td>\n",
       "      <td>0.007661</td>\n",
       "      <td>0.233105</td>\n",
       "      <td>3.430506</td>\n",
       "      <td>...</td>\n",
       "      <td>1970.926402</td>\n",
       "      <td>90.924008</td>\n",
       "      <td>122033.062244</td>\n",
       "      <td>52.792848</td>\n",
       "      <td>-114.404007</td>\n",
       "      <td>1996.702257</td>\n",
       "      <td>12753.500068</td>\n",
       "      <td>2.012244</td>\n",
       "      <td>64.950958</td>\n",
       "      <td>5.389322e+05</td>\n",
       "    </tr>\n",
       "    <tr>\n",
       "      <th>std</th>\n",
       "      <td>6.237575e+03</td>\n",
       "      <td>67.347991</td>\n",
       "      <td>0.938719</td>\n",
       "      <td>0.769934</td>\n",
       "      <td>928.275721</td>\n",
       "      <td>3.791962e+04</td>\n",
       "      <td>0.540239</td>\n",
       "      <td>0.087193</td>\n",
       "      <td>0.766259</td>\n",
       "      <td>0.664151</td>\n",
       "      <td>...</td>\n",
       "      <td>29.493625</td>\n",
       "      <td>416.216661</td>\n",
       "      <td>19.082418</td>\n",
       "      <td>0.137522</td>\n",
       "      <td>0.141326</td>\n",
       "      <td>691.093366</td>\n",
       "      <td>26058.414467</td>\n",
       "      <td>0.817284</td>\n",
       "      <td>8.936008</td>\n",
       "      <td>3.675324e+05</td>\n",
       "    </tr>\n",
       "    <tr>\n",
       "      <th>min</th>\n",
       "      <td>6.762810e+09</td>\n",
       "      <td>42491.000000</td>\n",
       "      <td>1.000000</td>\n",
       "      <td>0.500000</td>\n",
       "      <td>370.000000</td>\n",
       "      <td>5.200000e+02</td>\n",
       "      <td>1.000000</td>\n",
       "      <td>0.000000</td>\n",
       "      <td>0.000000</td>\n",
       "      <td>1.000000</td>\n",
       "      <td>...</td>\n",
       "      <td>1900.000000</td>\n",
       "      <td>0.000000</td>\n",
       "      <td>122003.000000</td>\n",
       "      <td>52.385900</td>\n",
       "      <td>-114.709000</td>\n",
       "      <td>460.000000</td>\n",
       "      <td>651.000000</td>\n",
       "      <td>1.000000</td>\n",
       "      <td>50.000000</td>\n",
       "      <td>7.800000e+04</td>\n",
       "    </tr>\n",
       "    <tr>\n",
       "      <th>25%</th>\n",
       "      <td>6.762815e+09</td>\n",
       "      <td>42546.000000</td>\n",
       "      <td>3.000000</td>\n",
       "      <td>1.750000</td>\n",
       "      <td>1440.000000</td>\n",
       "      <td>5.010750e+03</td>\n",
       "      <td>1.000000</td>\n",
       "      <td>0.000000</td>\n",
       "      <td>0.000000</td>\n",
       "      <td>3.000000</td>\n",
       "      <td>...</td>\n",
       "      <td>1951.000000</td>\n",
       "      <td>0.000000</td>\n",
       "      <td>122017.000000</td>\n",
       "      <td>52.707600</td>\n",
       "      <td>-114.519000</td>\n",
       "      <td>1490.000000</td>\n",
       "      <td>5097.750000</td>\n",
       "      <td>1.000000</td>\n",
       "      <td>57.000000</td>\n",
       "      <td>3.200000e+05</td>\n",
       "    </tr>\n",
       "    <tr>\n",
       "      <th>50%</th>\n",
       "      <td>6.762821e+09</td>\n",
       "      <td>42600.000000</td>\n",
       "      <td>3.000000</td>\n",
       "      <td>2.250000</td>\n",
       "      <td>1930.000000</td>\n",
       "      <td>7.620000e+03</td>\n",
       "      <td>1.500000</td>\n",
       "      <td>0.000000</td>\n",
       "      <td>0.000000</td>\n",
       "      <td>3.000000</td>\n",
       "      <td>...</td>\n",
       "      <td>1975.000000</td>\n",
       "      <td>0.000000</td>\n",
       "      <td>122032.000000</td>\n",
       "      <td>52.806400</td>\n",
       "      <td>-114.421000</td>\n",
       "      <td>1850.000000</td>\n",
       "      <td>7620.000000</td>\n",
       "      <td>2.000000</td>\n",
       "      <td>65.000000</td>\n",
       "      <td>4.500000e+05</td>\n",
       "    </tr>\n",
       "    <tr>\n",
       "      <th>75%</th>\n",
       "      <td>6.762826e+09</td>\n",
       "      <td>42662.000000</td>\n",
       "      <td>4.000000</td>\n",
       "      <td>2.500000</td>\n",
       "      <td>2570.000000</td>\n",
       "      <td>1.080000e+04</td>\n",
       "      <td>2.000000</td>\n",
       "      <td>0.000000</td>\n",
       "      <td>0.000000</td>\n",
       "      <td>4.000000</td>\n",
       "      <td>...</td>\n",
       "      <td>1997.000000</td>\n",
       "      <td>0.000000</td>\n",
       "      <td>122048.000000</td>\n",
       "      <td>52.908900</td>\n",
       "      <td>-114.315000</td>\n",
       "      <td>2380.000000</td>\n",
       "      <td>10125.000000</td>\n",
       "      <td>3.000000</td>\n",
       "      <td>73.000000</td>\n",
       "      <td>6.450000e+05</td>\n",
       "    </tr>\n",
       "    <tr>\n",
       "      <th>max</th>\n",
       "      <td>6.762832e+09</td>\n",
       "      <td>42734.000000</td>\n",
       "      <td>33.000000</td>\n",
       "      <td>8.000000</td>\n",
       "      <td>13540.000000</td>\n",
       "      <td>1.074218e+06</td>\n",
       "      <td>3.500000</td>\n",
       "      <td>1.000000</td>\n",
       "      <td>4.000000</td>\n",
       "      <td>5.000000</td>\n",
       "      <td>...</td>\n",
       "      <td>2015.000000</td>\n",
       "      <td>2015.000000</td>\n",
       "      <td>122072.000000</td>\n",
       "      <td>53.007600</td>\n",
       "      <td>-113.505000</td>\n",
       "      <td>6110.000000</td>\n",
       "      <td>560617.000000</td>\n",
       "      <td>3.000000</td>\n",
       "      <td>80.000000</td>\n",
       "      <td>7.700000e+06</td>\n",
       "    </tr>\n",
       "  </tbody>\n",
       "</table>\n",
       "<p>8 rows × 23 columns</p>\n",
       "</div>"
      ],
      "text/plain": [
       "                 id          Date  number of bedrooms  number of bathrooms  \\\n",
       "count  1.462000e+04  14620.000000        14620.000000         14620.000000   \n",
       "mean   6.762821e+09  42604.538646            3.379343             2.129583   \n",
       "std    6.237575e+03     67.347991            0.938719             0.769934   \n",
       "min    6.762810e+09  42491.000000            1.000000             0.500000   \n",
       "25%    6.762815e+09  42546.000000            3.000000             1.750000   \n",
       "50%    6.762821e+09  42600.000000            3.000000             2.250000   \n",
       "75%    6.762826e+09  42662.000000            4.000000             2.500000   \n",
       "max    6.762832e+09  42734.000000           33.000000             8.000000   \n",
       "\n",
       "        living area      lot area  number of floors  waterfront present  \\\n",
       "count  14620.000000  1.462000e+04      14620.000000        14620.000000   \n",
       "mean    2098.262996  1.509328e+04          1.502360            0.007661   \n",
       "std      928.275721  3.791962e+04          0.540239            0.087193   \n",
       "min      370.000000  5.200000e+02          1.000000            0.000000   \n",
       "25%     1440.000000  5.010750e+03          1.000000            0.000000   \n",
       "50%     1930.000000  7.620000e+03          1.500000            0.000000   \n",
       "75%     2570.000000  1.080000e+04          2.000000            0.000000   \n",
       "max    13540.000000  1.074218e+06          3.500000            1.000000   \n",
       "\n",
       "       number of views  condition of the house  ...    Built Year  \\\n",
       "count     14620.000000            14620.000000  ...  14620.000000   \n",
       "mean          0.233105                3.430506  ...   1970.926402   \n",
       "std           0.766259                0.664151  ...     29.493625   \n",
       "min           0.000000                1.000000  ...   1900.000000   \n",
       "25%           0.000000                3.000000  ...   1951.000000   \n",
       "50%           0.000000                3.000000  ...   1975.000000   \n",
       "75%           0.000000                4.000000  ...   1997.000000   \n",
       "max           4.000000                5.000000  ...   2015.000000   \n",
       "\n",
       "       Renovation Year    Postal Code     Lattitude     Longitude  \\\n",
       "count     14620.000000   14620.000000  14620.000000  14620.000000   \n",
       "mean         90.924008  122033.062244     52.792848   -114.404007   \n",
       "std         416.216661      19.082418      0.137522      0.141326   \n",
       "min           0.000000  122003.000000     52.385900   -114.709000   \n",
       "25%           0.000000  122017.000000     52.707600   -114.519000   \n",
       "50%           0.000000  122032.000000     52.806400   -114.421000   \n",
       "75%           0.000000  122048.000000     52.908900   -114.315000   \n",
       "max        2015.000000  122072.000000     53.007600   -113.505000   \n",
       "\n",
       "       living_area_renov  lot_area_renov  Number of schools nearby  \\\n",
       "count       14620.000000    14620.000000              14620.000000   \n",
       "mean         1996.702257    12753.500068                  2.012244   \n",
       "std           691.093366    26058.414467                  0.817284   \n",
       "min           460.000000      651.000000                  1.000000   \n",
       "25%          1490.000000     5097.750000                  1.000000   \n",
       "50%          1850.000000     7620.000000                  2.000000   \n",
       "75%          2380.000000    10125.000000                  3.000000   \n",
       "max          6110.000000   560617.000000                  3.000000   \n",
       "\n",
       "       Distance from the airport         Price  \n",
       "count               14620.000000  1.462000e+04  \n",
       "mean                   64.950958  5.389322e+05  \n",
       "std                     8.936008  3.675324e+05  \n",
       "min                    50.000000  7.800000e+04  \n",
       "25%                    57.000000  3.200000e+05  \n",
       "50%                    65.000000  4.500000e+05  \n",
       "75%                    73.000000  6.450000e+05  \n",
       "max                    80.000000  7.700000e+06  \n",
       "\n",
       "[8 rows x 23 columns]"
      ]
     },
     "execution_count": 6,
     "metadata": {},
     "output_type": "execute_result"
    }
   ],
   "source": [
    "data.describe()"
   ]
  },
  {
   "cell_type": "code",
   "execution_count": 7,
   "id": "0dc83056",
   "metadata": {
    "execution": {
     "iopub.execute_input": "2023-04-28T06:11:01.711559Z",
     "iopub.status.busy": "2023-04-28T06:11:01.711230Z",
     "iopub.status.idle": "2023-04-28T06:11:01.913201Z",
     "shell.execute_reply": "2023-04-28T06:11:01.912129Z"
    },
    "papermill": {
     "duration": 0.210786,
     "end_time": "2023-04-28T06:11:01.916279",
     "exception": false,
     "start_time": "2023-04-28T06:11:01.705493",
     "status": "completed"
    },
    "tags": []
   },
   "outputs": [
    {
     "data": {
      "text/plain": [
       "(array([1.2916e+04, 1.4260e+03, 1.9100e+02, 6.0000e+01, 1.9000e+01,\n",
       "        2.0000e+00, 2.0000e+00, 1.0000e+00, 1.0000e+00, 2.0000e+00]),\n",
       " array([  78000.,  840200., 1602400., 2364600., 3126800., 3889000.,\n",
       "        4651200., 5413400., 6175600., 6937800., 7700000.]),\n",
       " <BarContainer object of 10 artists>)"
      ]
     },
     "execution_count": 7,
     "metadata": {},
     "output_type": "execute_result"
    },
    {
     "data": {
      "image/png": "[encoded data removed]",
      "text/plain": [
       "<Figure size 640x480 with 1 Axes>"
      ]
     },
     "metadata": {},
     "output_type": "display_data"
    }
   ],
   "source": [
    "plt.hist(data['Price'])"
   ]
  },
  {
   "cell_type": "code",
   "execution_count": 8,
   "id": "7eae1911",
   "metadata": {
    "execution": {
     "iopub.execute_input": "2023-04-28T06:11:01.928418Z",
     "iopub.status.busy": "2023-04-28T06:11:01.927984Z",
     "iopub.status.idle": "2023-04-28T06:11:02.164599Z",
     "shell.execute_reply": "2023-04-28T06:11:02.163793Z"
    },
    "papermill": {
     "duration": 0.244797,
     "end_time": "2023-04-28T06:11:02.166439",
     "exception": false,
     "start_time": "2023-04-28T06:11:01.921642",
     "status": "completed"
    },
    "tags": []
   },
   "outputs": [
    {
     "data": {
      "text/plain": [
       "<matplotlib.collections.PathCollection at 0x7269da6d1850>"
      ]
     },
     "execution_count": 8,
     "metadata": {},
     "output_type": "execute_result"
    },
    {
     "data": {
      "image/png": "[encoded data removed]",
      "text/plain": [
       "<Figure size 640x480 with 1 Axes>"
      ]
     },
     "metadata": {},
     "output_type": "display_data"
    }
   ],
   "source": [
    "plt.scatter(data['number of bedrooms'], data['number of bathrooms'])"
   ]
  },
  {
   "cell_type": "code",
   "execution_count": 9,
   "id": "62dd14e6",
   "metadata": {
    "execution": {
     "iopub.execute_input": "2023-04-28T06:11:02.178816Z",
     "iopub.status.busy": "2023-04-28T06:11:02.178093Z",
     "iopub.status.idle": "2023-04-28T06:11:02.357617Z",
     "shell.execute_reply": "2023-04-28T06:11:02.356339Z"
    },
    "papermill": {
     "duration": 0.188743,
     "end_time": "2023-04-28T06:11:02.360333",
     "exception": false,
     "start_time": "2023-04-28T06:11:02.171590",
     "status": "completed"
    },
    "tags": []
   },
   "outputs": [
    {
     "data": {
      "text/plain": [
       "(array([  18.,    0.,  100.,    0.,    0., 9350.,    0., 3874.,    0.,\n",
       "        1278.]),\n",
       " array([1. , 1.4, 1.8, 2.2, 2.6, 3. , 3.4, 3.8, 4.2, 4.6, 5. ]),\n",
       " <BarContainer object of 10 artists>)"
      ]
     },
     "execution_count": 9,
     "metadata": {},
     "output_type": "execute_result"
    },
    {
     "data": {
      "image/png": "[encoded data removed]",
      "text/plain": [
       "<Figure size 640x480 with 1 Axes>"
      ]
     },
     "metadata": {},
     "output_type": "display_data"
    }
   ],
   "source": [
    "plt.hist(data['condition of the house'])"
   ]
  },
  {
   "cell_type": "code",
   "execution_count": 10,
   "id": "4a23cc5f",
   "metadata": {
    "execution": {
     "iopub.execute_input": "2023-04-28T06:11:02.373386Z",
     "iopub.status.busy": "2023-04-28T06:11:02.372949Z",
     "iopub.status.idle": "2023-04-28T06:11:02.383082Z",
     "shell.execute_reply": "2023-04-28T06:11:02.382238Z"
    },
    "papermill": {
     "duration": 0.019466,
     "end_time": "2023-04-28T06:11:02.385509",
     "exception": false,
     "start_time": "2023-04-28T06:11:02.366043",
     "status": "completed"
    },
    "tags": []
   },
   "outputs": [
    {
     "data": {
      "text/plain": [
       "450000    114\n",
       "350000    113\n",
       "400000    104\n",
       "375000    103\n",
       "550000    102\n",
       "         ... \n",
       "561600      1\n",
       "856500      1\n",
       "907687      1\n",
       "307999      1\n",
       "146000      1\n",
       "Name: Price, Length: 2901, dtype: int64"
      ]
     },
     "execution_count": 10,
     "metadata": {},
     "output_type": "execute_result"
    }
   ],
   "source": [
    "Price= data['Price'].value_counts()\n",
    "Price"
   ]
  },
  {
   "cell_type": "code",
   "execution_count": 11,
   "id": "b5379f73",
   "metadata": {
    "execution": {
     "iopub.execute_input": "2023-04-28T06:11:02.398603Z",
     "iopub.status.busy": "2023-04-28T06:11:02.398075Z",
     "iopub.status.idle": "2023-04-28T06:11:03.313109Z",
     "shell.execute_reply": "2023-04-28T06:11:03.310692Z"
    },
    "papermill": {
     "duration": 0.92487,
     "end_time": "2023-04-28T06:11:03.316131",
     "exception": false,
     "start_time": "2023-04-28T06:11:02.391261",
     "status": "completed"
    },
    "tags": []
   },
   "outputs": [
    {
     "data": {
      "text/plain": [
       "<AxesSubplot:xlabel='Price', ylabel='count'>"
      ]
     },
     "execution_count": 11,
     "metadata": {},
     "output_type": "execute_result"
    },
    {
     "data": {
      "image/png": "[encoded data removed]",
      "text/plain": [
       "<Figure size 2200x800 with 1 Axes>"
      ]
     },
     "metadata": {},
     "output_type": "display_data"
    }
   ],
   "source": [
    "plt.figure(figsize=(22,8))\n",
    "sns.countplot(x=Price)"
   ]
  },
  {
   "cell_type": "code",
   "execution_count": 12,
   "id": "8b60423f",
   "metadata": {
    "execution": {
     "iopub.execute_input": "2023-04-28T06:11:03.334230Z",
     "iopub.status.busy": "2023-04-28T06:11:03.332855Z",
     "iopub.status.idle": "2023-04-28T06:11:03.342506Z",
     "shell.execute_reply": "2023-04-28T06:11:03.341546Z"
    },
    "papermill": {
     "duration": 0.021831,
     "end_time": "2023-04-28T06:11:03.345397",
     "exception": false,
     "start_time": "2023-04-28T06:11:03.323566",
     "status": "completed"
    },
    "tags": []
   },
   "outputs": [
    {
     "data": {
      "text/plain": [
       "3     6612\n",
       "4     4724\n",
       "2     1844\n",
       "5     1079\n",
       "6      176\n",
       "1      136\n",
       "7       30\n",
       "8       11\n",
       "9        3\n",
       "10       3\n",
       "33       1\n",
       "11       1\n",
       "Name: number of bedrooms, dtype: int64"
      ]
     },
     "execution_count": 12,
     "metadata": {},
     "output_type": "execute_result"
    }
   ],
   "source": [
    "number_of_bedrooms =data['number of bedrooms'].value_counts()\n",
    "number_of_bedrooms"
   ]
  },
  {
   "cell_type": "code",
   "execution_count": 13,
   "id": "d66b0a33",
   "metadata": {
    "execution": {
     "iopub.execute_input": "2023-04-28T06:11:03.361865Z",
     "iopub.status.busy": "2023-04-28T06:11:03.360497Z",
     "iopub.status.idle": "2023-04-28T06:11:03.580445Z",
     "shell.execute_reply": "2023-04-28T06:11:03.579411Z"
    },
    "papermill": {
     "duration": 0.22985,
     "end_time": "2023-04-28T06:11:03.582666",
     "exception": false,
     "start_time": "2023-04-28T06:11:03.352816",
     "status": "completed"
    },
    "tags": []
   },
   "outputs": [
    {
     "data": {
      "text/plain": [
       "<AxesSubplot:xlabel='number of bedrooms', ylabel='count'>"
      ]
     },
     "execution_count": 13,
     "metadata": {},
     "output_type": "execute_result"
    },
    {
     "data": {
      "image/png": "[encoded data removed]",
      "text/plain": [
       "<Figure size 640x480 with 1 Axes>"
      ]
     },
     "metadata": {},
     "output_type": "display_data"
    }
   ],
   "source": [
    "sns.countplot(x=number_of_bedrooms)"
   ]
  }
 ],
 "metadata": {
  "kernelspec": {
   "display_name": "Python 3",
   "language": "python",
   "name": "python3"
  },
  "language_info": {
   "codemirror_mode": {
    "name": "ipython",
    "version": 3
   },
   "file_extension": ".py",
   "mimetype": "text/x-python",
   "name": "python",
   "nbconvert_exporter": "python",
   "pygments_lexer": "ipython3",
   "version": "3.7.12"
  },
  "papermill": {
   "default_parameters": {},
   "duration": 12.882969,
   "end_time": "2023-04-28T06:11:04.412122",
   "environment_variables": {},
   "exception": null,
   "input_path": "__notebook__.ipynb",
   "output_path": "__notebook__.ipynb",
   "parameters": {},
   "start_time": "2023-04-28T06:10:51.529153",
   "version": "2.4.0"
  }
 },
 "nbformat": 4,
 "nbformat_minor": 5
}
